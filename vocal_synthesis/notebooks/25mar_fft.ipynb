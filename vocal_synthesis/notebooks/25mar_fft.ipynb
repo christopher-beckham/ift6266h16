{
 "cells": [
  {
   "cell_type": "code",
   "execution_count": 1,
   "metadata": {
    "collapsed": false
   },
   "outputs": [
    {
     "name": "stderr",
     "output_type": "stream",
     "text": [
      "//anaconda/lib/python2.7/site-packages/Theano-0.8.0.dev0-py2.7.egg/theano/tensor/signal/downsample.py:5: UserWarning: downsample module has been moved to the pool module.\n",
      "  warnings.warn(\"downsample module has been moved to the pool module.\")\n"
     ]
    }
   ],
   "source": [
    "import sys\n",
    "import os\n",
    "from scipy.io import wavfile\n",
    "import numpy as np\n",
    "import theano\n",
    "from theano import tensor as T\n",
    "import lasagne\n",
    "from lasagne.layers import *\n",
    "from lasagne.init import *\n",
    "from lasagne.nonlinearities import *\n",
    "from lasagne.objectives import *\n",
    "from lasagne.updates import *\n",
    "import cPickle as pickle\n",
    "import matplotlib.pyplot as plt\n",
    "%matplotlib inline\n",
    "import scipy"
   ]
  },
  {
   "cell_type": "code",
   "execution_count": 2,
   "metadata": {
    "collapsed": true
   },
   "outputs": [],
   "source": [
    "%load_ext rpy2.ipython"
   ]
  },
  {
   "cell_type": "code",
   "execution_count": 5,
   "metadata": {
    "collapsed": false
   },
   "outputs": [],
   "source": [
    "os.environ[\"DATA_DIR\"] = \"/Volumes/CB_RESEARCH/vocal_synthesis\"\n",
    "data_folder = os.environ[\"DATA_DIR\"]"
   ]
  },
  {
   "cell_type": "code",
   "execution_count": 8,
   "metadata": {
    "collapsed": false
   },
   "outputs": [
    {
     "data": {
      "text/plain": [
       "(1, 12, 16000)"
      ]
     },
     "execution_count": 8,
     "metadata": {},
     "output_type": "execute_result"
    }
   ],
   "source": [
    "\n",
    "ctr = np.load(data_folder + os.path.sep + \"x0.5_6_all_offset2_fft.npy.npz.sample\")\n",
    "X_train = ctr.reshape( (1, X_train.shape[0], X_train.shape[1]))\n",
    "X_train.shape"
   ]
  },
  {
   "cell_type": "code",
   "execution_count": 9,
   "metadata": {
    "collapsed": false
   },
   "outputs": [],
   "source": [
    "args = dict()\n",
    "args[\"seed\"] = 0\n",
    "args[\"batch_size\"] = 128\n",
    "args[\"learning_rate\"] = 0.01\n",
    "args[\"momentum\"] = 0.9\n",
    "args[\"num_epochs\"] = 4000\n",
    "args[\"X_train\"] = X_train\n",
    "args[\"X_valid\"] = X_train\n",
    "args[\"X_test\"] = X_train\n",
    "args[\"update_method\"] = rmsprop\n",
    "#args[\"out_pkl\"] = out_pkl\n",
    "args[\"units\"] = [2000]\n",
    "args[\"out_nonlinearity\"] = \"sigmoid\"\n",
    "\n",
    "args[\"config\"] = \"../configurations/19mar_variable_3.py\""
   ]
  },
  {
   "cell_type": "code",
   "execution_count": 10,
   "metadata": {
    "collapsed": false
   },
   "outputs": [
    {
     "name": "stderr",
     "output_type": "stream",
     "text": [
      "loading config: ../configurations/19mar_variable_3.py\n",
      "test...\n",
      "using sigmout out nonlinearity\n",
      "Number of params in model: 176034000\n",
      "<lasagne.layers.input.InputLayer object at 0x112a751d0>,(None, None, 16000)\n",
      "<lasagne.layers.recurrent.LSTMLayer object at 0x112cc14d0>,(None, None, 2000)\n",
      "<lasagne.layers.shape.ReshapeLayer object at 0x112cc1490>,(None, 2000)\n",
      "<lasagne.layers.dense.DenseLayer object at 0x112a55a90>,(None, 16000)\n",
      "<lasagne.layers.shape.ReshapeLayer object at 0x11c7ed050>,(None, None, 16000)\n"
     ]
    }
   ],
   "source": [
    "sys.path.append(\"..\")\n",
    "import rnn_experiment as exp\n",
    "symbols = exp.prepare(args)\n",
    "out_fn = symbols[\"out_fn\"]\n",
    "l_out = symbols[\"l_out\"]\n",
    "with open(data_folder + os.path.sep + \"expensive_models\" + os.path.sep + \\\n",
    "          \"x0.5_12_all_offset3_fft/19mar_2000x1_sigmout.model\") as f:\n",
    "    model = pickle.load(f)\n",
    "set_all_param_values(l_out, model)"
   ]
  },
  {
   "cell_type": "code",
   "execution_count": 11,
   "metadata": {
    "collapsed": true
   },
   "outputs": [],
   "source": [
    "# real min, real max, imag min, imag max = -12138885.000000, 12214989.000000, -12082921.000000, 12082921.000000\n",
    "real_min = -12138885.000000\n",
    "real_max = 12214989.000000\n",
    "imag_min = -12082921.000000\n",
    "imag_max = 12082921.000000"
   ]
  },
  {
   "cell_type": "code",
   "execution_count": 12,
   "metadata": {
    "collapsed": false
   },
   "outputs": [],
   "source": [
    "x_size = 8000"
   ]
  },
  {
   "cell_type": "code",
   "execution_count": 14,
   "metadata": {
    "collapsed": false
   },
   "outputs": [],
   "source": [
    "generated_seq = X_train[0:1].flatten().tolist()\n",
    "generated_seq_array = []\n",
    "# x1, x2, ..., x40\n",
    "for i in range(0, X_train.shape[1]):\n",
    "    generated_seq_array.append(X_train[0:1, i, :][0])\n",
    "ctr = 0\n",
    "for x in range(0, 30):\n",
    "    #this_input = np.asarray(generated_seq_array[ctr::])\n",
    "    this_input = np.asarray(generated_seq_array) # since we have var sequence lengths now\n",
    "    this_input = this_input.reshape( (1, this_input.shape[0], this_input.shape[1]))\n",
    "    \n",
    "    #print this_input.shape\n",
    "    #assert this_input.shape == (1, 100, 800)\n",
    "    \n",
    "    # (1, 40, 4000) -> (40, 4000) -> get last elem\n",
    "    # predict x2, x3, ..., x41\n",
    "    # then append x41 to generated_seq_array\n",
    "    # now next time, feed [x2, x3, ..., x41] to out_fn to get\n",
    "    # [x3, x4, ... x42]\n",
    "    this_out = out_fn(this_input)[0][-1]\n",
    "    assert this_out.shape == (x_size*2,)\n",
    "    #print this_out.shape\n",
    "    \n",
    "    generated_seq_array.append(this_out)\n",
    "    \n",
    "    ctr += 1"
   ]
  },
  {
   "cell_type": "code",
   "execution_count": 15,
   "metadata": {
    "collapsed": false
   },
   "outputs": [
    {
     "data": {
      "text/plain": [
       "42"
      ]
     },
     "execution_count": 15,
     "metadata": {},
     "output_type": "execute_result"
    }
   ],
   "source": [
    "len(generated_seq_array)"
   ]
  },
  {
   "cell_type": "code",
   "execution_count": 16,
   "metadata": {
    "collapsed": false
   },
   "outputs": [
    {
     "data": {
      "text/plain": [
       "[<matplotlib.lines.Line2D at 0x13e0bc590>]"
      ]
     },
     "execution_count": 16,
     "metadata": {},
     "output_type": "execute_result"
    },
    {
     "data": {
      "image/png": "[encoded data removed]",
      "text/plain": [
       "<matplotlib.figure.Figure at 0x121612f90>"
      ]
     },
     "metadata": {},
     "output_type": "display_data"
    }
   ],
   "source": [
    "plt.plot(np.asarray(generated_seq_array).flatten())"
   ]
  },
  {
   "cell_type": "code",
   "execution_count": 17,
   "metadata": {
    "collapsed": false
   },
   "outputs": [],
   "source": [
    "new_generated_seq_array = []\n",
    "for i in range(0, len(generated_seq_array)):\n",
    "    this_seq = np.array(generated_seq_array[i], copy=True)\n",
    "    # unnormalise the real elements\n",
    "    this_seq[0:x_size] = (this_seq[0:x_size]*(real_max-real_min)) + real_min\n",
    "    # unnormalise the imaginary elements\n",
    "    this_seq[x_size::] = (this_seq[x_size::]*(imag_max-imag_min)) + imag_min\n",
    "    # now do the inverse fft transform\n",
    "    new_generated_seq_array.append( scipy.ifft(this_seq[0:x_size] + 1j*this_seq[x_size::]).real )"
   ]
  },
  {
   "cell_type": "markdown",
   "metadata": {},
   "source": [
    "At least the original audio sounds correct still..."
   ]
  },
  {
   "cell_type": "code",
   "execution_count": 18,
   "metadata": {
    "collapsed": false
   },
   "outputs": [
    {
     "data": {
      "text/plain": [
       "[<matplotlib.lines.Line2D at 0x13d7e1810>]"
      ]
     },
     "execution_count": 18,
     "metadata": {},
     "output_type": "execute_result"
    },
    {
     "data": {
      "image/png": "[encoded data removed]",
      "text/plain": [
       "<matplotlib.figure.Figure at 0x121612c10>"
      ]
     },
     "metadata": {},
     "output_type": "display_data"
    }
   ],
   "source": [
    "new_generated_seq = np.asarray(new_generated_seq_array).flatten()\n",
    "plt.plot(new_generated_seq)"
   ]
  },
  {
   "cell_type": "code",
   "execution_count": 62,
   "metadata": {
    "collapsed": false
   },
   "outputs": [],
   "source": [
    "out_file = \"/tmp/24mar_generated_2.wav\"\n",
    "wavfile.write(filename=out_file, rate=fs, data=new_generated_seq.astype(\"int16\"))"
   ]
  },
  {
   "cell_type": "markdown",
   "metadata": {},
   "source": [
    "----"
   ]
  },
  {
   "cell_type": "code",
   "execution_count": 2,
   "metadata": {
    "collapsed": true
   },
   "outputs": [],
   "source": [
    "x_size=8000"
   ]
  },
  {
   "cell_type": "code",
   "execution_count": 6,
   "metadata": {
    "collapsed": false
   },
   "outputs": [
    {
     "name": "stdout",
     "output_type": "stream",
     "text": [
      "int16\n"
     ]
    }
   ],
   "source": [
    "fs, data = wavfile.read(data_folder + os.path.sep + \"data.wav\")\n",
    "print data.dtype\n",
    "data = np.asarray(data, dtype=\"float32\")"
   ]
  },
  {
   "cell_type": "code",
   "execution_count": 28,
   "metadata": {
    "collapsed": false
   },
   "outputs": [
    {
     "data": {
      "text/plain": [
       "(-100.79158221825649, 100.791582218256)"
      ]
     },
     "execution_count": 28,
     "metadata": {},
     "output_type": "execute_result"
    }
   ],
   "source": [
    "dm = np.hstack( (scipy.fft( data[0:8000] ).real, scipy.fft( data[0:8000] ).imag) )  / x_size\n",
    "np.min(dm), np.max(dm)"
   ]
  },
  {
   "cell_type": "code",
   "execution_count": 39,
   "metadata": {
    "collapsed": false
   },
   "outputs": [
    {
     "data": {
      "text/plain": [
       "-3.552713678800501e-18"
      ]
     },
     "execution_count": 39,
     "metadata": {},
     "output_type": "execute_result"
    }
   ],
   "source": [
    "np.mean(dm)"
   ]
  },
  {
   "cell_type": "markdown",
   "metadata": {},
   "source": [
    "already normalised..."
   ]
  },
  {
   "cell_type": "code",
   "execution_count": 32,
   "metadata": {
    "collapsed": false
   },
   "outputs": [
    {
     "name": "stdout",
     "output_type": "stream",
     "text": [
      "[ 0.49813542  0.49813661  0.49813262 ...,  0.50000536  0.50000119\n",
      "  0.49999604]\n",
      "(16000,)\n"
     ]
    }
   ],
   "source": [
    "print X_train[0][0]\n",
    "print X_train[0][0].shape"
   ]
  },
  {
   "cell_type": "markdown",
   "metadata": {},
   "source": [
    "unnormalise..."
   ]
  },
  {
   "cell_type": "code",
   "execution_count": 33,
   "metadata": {
    "collapsed": false
   },
   "outputs": [
    {
     "name": "stdout",
     "output_type": "stream",
     "text": [
      "[-7358. -7329. -7426. ...,   130.    29.   -96.]\n",
      "(16000,)\n"
     ]
    }
   ],
   "source": [
    "unnorm = np.hstack((\n",
    "    (X_train[0][0][0:x_size]*(real_max-real_min)) + real_min,\n",
    "    (X_train[0][0][x_size::]*(imag_max-imag_min)) + imag_min\n",
    "))\n",
    "print unnorm\n",
    "print unnorm.shape"
   ]
  },
  {
   "cell_type": "markdown",
   "metadata": {},
   "source": [
    "Great, now do the inverse FFT and grab the real vector"
   ]
  },
  {
   "cell_type": "code",
   "execution_count": 34,
   "metadata": {
    "collapsed": false
   },
   "outputs": [
    {
     "data": {
      "text/plain": [
       "array([  6.25000000e-03,   5.16054422e-04,  -8.41184349e-03, ...,\n",
       "        -6.92997689e+02,  -7.40992634e+02,  -7.31005111e+02])"
      ]
     },
     "execution_count": 34,
     "metadata": {},
     "output_type": "execute_result"
    }
   ],
   "source": [
    "scipy.ifft( unnorm[0:x_size] + 1j*unnorm[x_size::] ).real"
   ]
  },
  {
   "cell_type": "markdown",
   "metadata": {},
   "source": [
    "----"
   ]
  },
  {
   "cell_type": "code",
   "execution_count": 100,
   "metadata": {
    "collapsed": false
   },
   "outputs": [
    {
     "name": "stdout",
     "output_type": "stream",
     "text": [
      "[ 0.  0.  0. ...,  5.  6.  7.]\n",
      "2000\n"
     ]
    }
   ],
   "source": [
    "print data[0:int(16000*0.125)]\n",
    "print len(data[0:int(16000*0.125)])"
   ]
  },
  {
   "cell_type": "markdown",
   "metadata": {},
   "source": [
    "What happens when we do the fft on the first element of the training set"
   ]
  },
  {
   "cell_type": "code",
   "execution_count": 22,
   "metadata": {
    "collapsed": false
   },
   "outputs": [
    {
     "name": "stdout",
     "output_type": "stream",
     "text": [
      "[ 2.          2.06349782  2.25365679 ...,  4.71810305  3.1607226\n",
      "  1.58496731]\n",
      "(4000,)\n"
     ]
    }
   ],
   "source": [
    "ff = np.hstack((\n",
    "    scipy.fft( data[0:int(16000*0.125)] ).real,\n",
    "    scipy.fft( data[0:int(16000*0.125)] ).imag    \n",
    "))\n",
    "print ff\n",
    "print ff.shape"
   ]
  },
  {
   "cell_type": "markdown",
   "metadata": {},
   "source": [
    "normalise..."
   ]
  },
  {
   "cell_type": "code",
   "execution_count": 18,
   "metadata": {
    "collapsed": false
   },
   "outputs": [
    {
     "name": "stdout",
     "output_type": "stream",
     "text": [
      "[ 0.50510959  0.5051096   0.50510962 ...,  0.50000051  0.50000034\n",
      "  0.50000017]\n",
      "(4000,)\n"
     ]
    }
   ],
   "source": [
    "ff[0:x_size] = (ff[0:x_size] - real_min) / (real_max - real_min)\n",
    "ff[x_size::] = (ff[x_size::] - imag_min) / (imag_max - imag_min)\n",
    "print ff\n",
    "print ff.shape"
   ]
  },
  {
   "cell_type": "markdown",
   "metadata": {},
   "source": [
    "denormalise..."
   ]
  },
  {
   "cell_type": "code",
   "execution_count": 19,
   "metadata": {
    "collapsed": false
   },
   "outputs": [
    {
     "name": "stdout",
     "output_type": "stream",
     "text": [
      "[ 2.          2.06349782  2.25365679 ...,  4.71810305  3.1607226\n",
      "  1.58496731]\n",
      "(4000,)\n"
     ]
    }
   ],
   "source": [
    "ff[0:x_size] = (ff[0:x_size]*(real_max-real_min)) + real_min\n",
    "ff[x_size::] = (ff[x_size::]*(imag_max-imag_min)) + imag_min\n",
    "print ff\n",
    "print ff.shape"
   ]
  },
  {
   "cell_type": "code",
   "execution_count": 128,
   "metadata": {
    "collapsed": false
   },
   "outputs": [
    {
     "data": {
      "text/plain": [
       "array([ -2.79396772e-12,   2.34727526e-12,   1.28294948e-11, ...,\n",
       "         5.00000000e+00,   6.00000000e+00,   7.00000000e+00])"
      ]
     },
     "execution_count": 128,
     "metadata": {},
     "output_type": "execute_result"
    }
   ],
   "source": [
    "scipy.ifft(ff[0:x_size] + 1j*ff[x_size::]).real"
   ]
  },
  {
   "cell_type": "markdown",
   "metadata": {},
   "source": [
    "----"
   ]
  },
  {
   "cell_type": "code",
   "execution_count": 99,
   "metadata": {
    "collapsed": false
   },
   "outputs": [
    {
     "data": {
      "text/plain": [
       "array([ -2.03726813e-13,   1.15500000e+02,   2.87000000e+02, ...,\n",
       "         4.49000000e+02,   2.87000000e+02,   1.15500000e+02])"
      ]
     },
     "execution_count": 99,
     "metadata": {},
     "output_type": "execute_result"
    }
   ],
   "source": [
    "scipy.ifft( scipy.fft( data[0:16000] ).real ).real"
   ]
  },
  {
   "cell_type": "code",
   "execution_count": 94,
   "metadata": {
    "collapsed": false
   },
   "outputs": [],
   "source": [
    "?scipy.fft"
   ]
  },
  {
   "cell_type": "markdown",
   "metadata": {},
   "source": [
    "----"
   ]
  },
  {
   "cell_type": "code",
   "execution_count": 13,
   "metadata": {
    "collapsed": false
   },
   "outputs": [
    {
     "data": {
      "image/png": "[encoded data removed]"
     },
     "metadata": {},
     "output_type": "display_data"
    }
   ],
   "source": [
    "%%R\n",
    "df = read.csv(\"../models/x0.5_6_all_offset2_fft/19mar_2000x1_sigmout.txt\")\n",
    "\n",
    "plot(df$train_loss, type=\"l\", xlab=\"# epochs\", ylab=\"loss\", col=\"blue\", main=\"x0.5_6_all_offset2_fft/19mar_2000x1_sigmout.txt\",\n",
    "    ylim=c(  min( min(df$train_loss), min(df$valid_loss) ) , 4e-05 )  )\n",
    "lines(df$valid_loss, type=\"l\", col=\"red\")\n",
    "legend(\"topright\", legend=c(\"train loss\", \"valid loss\"), fill=c(\"blue\", \"red\"))"
   ]
  },
  {
   "cell_type": "code",
   "execution_count": 15,
   "metadata": {
    "collapsed": false
   },
   "outputs": [
    {
     "data": {
      "text/plain": [
       "[1] -6.907755\n"
      ]
     },
     "metadata": {},
     "output_type": "display_data"
    }
   ],
   "source": [
    "%%R\n",
    "log(0.001)"
   ]
  },
  {
   "cell_type": "code",
   "execution_count": null,
   "metadata": {
    "collapsed": true
   },
   "outputs": [],
   "source": []
  }
 ],
 "metadata": {
  "kernelspec": {
   "display_name": "Python 2",
   "language": "python",
   "name": "python2"
  },
  "language_info": {
   "codemirror_mode": {
    "name": "ipython",
    "version": 2
   },
   "file_extension": ".py",
   "mimetype": "text/x-python",
   "name": "python",
   "nbconvert_exporter": "python",
   "pygments_lexer": "ipython2",
   "version": "2.7.11"
  }
 },
 "nbformat": 4,
 "nbformat_minor": 0
}
