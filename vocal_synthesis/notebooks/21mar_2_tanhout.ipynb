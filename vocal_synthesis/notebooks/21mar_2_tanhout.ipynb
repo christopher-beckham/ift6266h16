{
 "cells": [
  {
   "cell_type": "code",
   "execution_count": 1,
   "metadata": {
    "collapsed": false
   },
   "outputs": [
    {
     "name": "stderr",
     "output_type": "stream",
     "text": [
      "//anaconda/lib/python2.7/site-packages/Theano-0.8.0.dev0-py2.7.egg/theano/tensor/signal/downsample.py:5: UserWarning: downsample module has been moved to the pool module.\n",
      "  warnings.warn(\"downsample module has been moved to the pool module.\")\n"
     ]
    }
   ],
   "source": [
    "import sys\n",
    "import os\n",
    "from scipy.io import wavfile\n",
    "import numpy as np\n",
    "import theano\n",
    "from theano import tensor as T\n",
    "import lasagne\n",
    "from lasagne.layers import *\n",
    "from lasagne.init import *\n",
    "from lasagne.nonlinearities import *\n",
    "from lasagne.objectives import *\n",
    "from lasagne.updates import *\n",
    "import cPickle as pickle\n",
    "import matplotlib.pyplot as plt\n",
    "%matplotlib inline"
   ]
  },
  {
   "cell_type": "code",
   "execution_count": 2,
   "metadata": {
    "collapsed": true
   },
   "outputs": [],
   "source": [
    "%load_ext rpy2.ipython"
   ]
  },
  {
   "cell_type": "code",
   "execution_count": 3,
   "metadata": {
    "collapsed": false
   },
   "outputs": [],
   "source": [
    "os.environ[\"DATA_DIR\"] = \"/tmp/data_dir\""
   ]
  },
  {
   "cell_type": "code",
   "execution_count": 4,
   "metadata": {
    "collapsed": false
   },
   "outputs": [
    {
     "data": {
      "text/plain": [
       "((1742, 20, 4000), (217, 20, 4000), (217, 20, 4000))"
      ]
     },
     "execution_count": 4,
     "metadata": {},
     "output_type": "execute_result"
    }
   ],
   "source": [
    "data_folder = os.environ[\"DATA_DIR\"]\n",
    "with open(data_folder + os.path.sep + \"x0.25_5_all_use_mean.pkl\") as f:\n",
    "    dat = pickle.load(f)\n",
    "X_train, X_valid, X_test = dat[0]\n",
    "X_train.shape, X_valid.shape, X_test.shape"
   ]
  },
  {
   "cell_type": "code",
   "execution_count": 5,
   "metadata": {
    "collapsed": false
   },
   "outputs": [],
   "source": [
    "args = dict()\n",
    "args[\"seed\"] = 0\n",
    "args[\"batch_size\"] = 128\n",
    "args[\"learning_rate\"] = 0.01\n",
    "args[\"momentum\"] = 0.9\n",
    "args[\"num_epochs\"] = 4000\n",
    "args[\"X_train\"] = X_train\n",
    "args[\"X_valid\"] = X_valid\n",
    "args[\"X_test\"] = X_test\n",
    "args[\"update_method\"] = rmsprop\n",
    "#args[\"out_pkl\"] = out_pkl\n",
    "args[\"units\"] = [2000]\n",
    "\n",
    "args[\"config\"] = \"../configurations/19mar_variable_2.py\""
   ]
  },
  {
   "cell_type": "code",
   "execution_count": 56,
   "metadata": {
    "collapsed": false
   },
   "outputs": [
    {
     "name": "stderr",
     "output_type": "stream",
     "text": [
      "loading config: ../configurations/19mar_variable_2.py\n",
      "Number of params in model: 56022000\n",
      "<lasagne.layers.input.InputLayer object at 0x17dcb0f50>,(None, None, 4000)\n",
      "<lasagne.layers.recurrent.LSTMLayer object at 0x17f626dd0>,(None, None, 2000)\n",
      "<lasagne.layers.shape.ReshapeLayer object at 0x11f466490>,(None, 2000)\n",
      "<lasagne.layers.dense.DenseLayer object at 0x17f606810>,(None, 4000)\n",
      "<lasagne.layers.shape.ReshapeLayer object at 0x17f5c0850>,(None, None, 4000)\n"
     ]
    }
   ],
   "source": [
    "sys.path.append(\"..\")\n",
    "import rnn_experiment as exp\n",
    "symbols = exp.prepare(args)\n",
    "out_fn = symbols[\"out_fn\"]\n",
    "l_out = symbols[\"l_out\"]\n",
    "with open(data_folder + os.path.sep + \"expensive_models\" + os.path.sep + \\\n",
    "          \"x0.25_5_all_use_mean/19mar_2000x1_tanhout.2_use_mean.model\") as f:\n",
    "    model = pickle.load(f)\n",
    "set_all_param_values(l_out, model)"
   ]
  },
  {
   "cell_type": "code",
   "execution_count": 57,
   "metadata": {
    "collapsed": false
   },
   "outputs": [],
   "source": [
    "generated_seq = X_train[0:1].flatten().tolist()\n",
    "generated_seq_array = []\n",
    "# x1, x2, ..., x40\n",
    "for i in range(0, X_train.shape[1]):\n",
    "    generated_seq_array.append(X_train[0:1, i, :][0])\n",
    "ctr = 0\n",
    "for x in range(0, 50):\n",
    "    #this_input = np.asarray(generated_seq_array[ctr::])\n",
    "    this_input = np.asarray(generated_seq_array) # since we have var sequence lengths now\n",
    "    this_input = this_input.reshape( (1, this_input.shape[0], this_input.shape[1]))\n",
    "    \n",
    "    #print this_input.shape\n",
    "    #assert this_input.shape == (1, 100, 800)\n",
    "    \n",
    "    # (1, 40, 4000) -> (40, 4000) -> get last elem\n",
    "    # predict x2, x3, ..., x41\n",
    "    # then append x41 to generated_seq_array\n",
    "    # now next time, feed [x2, x3, ..., x41] to out_fn to get\n",
    "    # [x3, x4, ... x42]\n",
    "    this_out = out_fn(this_input)[0][-1]\n",
    "    assert this_out.shape == (4000,)\n",
    "    #print this_out.shape\n",
    "    \n",
    "    generated_seq_array.append(this_out)\n",
    "    \n",
    "    ctr += 1"
   ]
  },
  {
   "cell_type": "code",
   "execution_count": 58,
   "metadata": {
    "collapsed": false
   },
   "outputs": [
    {
     "data": {
      "text/plain": [
       "70"
      ]
     },
     "execution_count": 58,
     "metadata": {},
     "output_type": "execute_result"
    }
   ],
   "source": [
    "len(generated_seq_array)"
   ]
  },
  {
   "cell_type": "code",
   "execution_count": 59,
   "metadata": {
    "collapsed": false
   },
   "outputs": [
    {
     "data": {
      "text/plain": [
       "17.5"
      ]
     },
     "execution_count": 59,
     "metadata": {},
     "output_type": "execute_result"
    }
   ],
   "source": [
    "(len(generated_seq_array)*4000.0) / 16000.0"
   ]
  },
  {
   "cell_type": "code",
   "execution_count": 60,
   "metadata": {
    "collapsed": false
   },
   "outputs": [
    {
     "data": {
      "text/plain": [
       "80000.0"
      ]
     },
     "execution_count": 60,
     "metadata": {},
     "output_type": "execute_result"
    }
   ],
   "source": [
    "20*4000.0"
   ]
  },
  {
   "cell_type": "code",
   "execution_count": 61,
   "metadata": {
    "collapsed": false
   },
   "outputs": [
    {
     "data": {
      "text/plain": [
       "[<matplotlib.lines.Line2D at 0x114a336d0>]"
      ]
     },
     "execution_count": 61,
     "metadata": {},
     "output_type": "execute_result"
    },
    {
     "data": {
      "image/png": "[encoded data removed]",
      "text/plain": [
       "<matplotlib.figure.Figure at 0x1c73a57d0>"
      ]
     },
     "metadata": {},
     "output_type": "display_data"
    }
   ],
   "source": [
    "generated_seq = np.asarray(generated_seq_array).flatten()\n",
    "plt.plot(generated_seq)"
   ]
  },
  {
   "cell_type": "code",
   "execution_count": 16,
   "metadata": {
    "collapsed": false
   },
   "outputs": [
    {
     "name": "stdout",
     "output_type": "stream",
     "text": [
      "int16\n"
     ]
    }
   ],
   "source": [
    "fs, data = wavfile.read(data_folder + os.path.sep + \"data.wav\")\n",
    "print data.dtype\n",
    "data = np.asarray(data, dtype=\"float32\")\n",
    "min_, max_, mean_ = np.min(data), np.max(data), np.mean(data)"
   ]
  },
  {
   "cell_type": "code",
   "execution_count": 45,
   "metadata": {
    "collapsed": false
   },
   "outputs": [
    {
     "data": {
      "text/plain": [
       "(-8936.0, 9124.0, 0.047603961, 2144.3425)"
      ]
     },
     "execution_count": 45,
     "metadata": {},
     "output_type": "execute_result"
    }
   ],
   "source": [
    "np.min(data), np.max(data), np.mean(data), np.std(data)"
   ]
  },
  {
   "cell_type": "code",
   "execution_count": 62,
   "metadata": {
    "collapsed": false
   },
   "outputs": [],
   "source": [
    "tmp = np.asarray(generated_seq)\n",
    "tmp = (tmp * (max_ - min_)) + mean_\n",
    "tmp = np.asarray(tmp, dtype=\"int16\")"
   ]
  },
  {
   "cell_type": "code",
   "execution_count": 63,
   "metadata": {
    "collapsed": false
   },
   "outputs": [
    {
     "data": {
      "text/plain": [
       "[<matplotlib.lines.Line2D at 0x114e710d0>]"
      ]
     },
     "execution_count": 63,
     "metadata": {},
     "output_type": "execute_result"
    },
    {
     "data": {
      "image/png": "[encoded data removed]",
      "text/plain": [
       "<matplotlib.figure.Figure at 0x1149908d0>"
      ]
     },
     "metadata": {},
     "output_type": "display_data"
    }
   ],
   "source": [
    "plt.plot(tmp)"
   ]
  },
  {
   "cell_type": "code",
   "execution_count": 64,
   "metadata": {
    "collapsed": false
   },
   "outputs": [],
   "source": [
    "out_file = \"/tmp/test50.wav\"\n",
    "#os.remove(out_file)\n",
    "wavfile.write(filename=out_file, rate=fs, data=tmp)"
   ]
  },
  {
   "cell_type": "markdown",
   "metadata": {},
   "source": [
    "----"
   ]
  },
  {
   "cell_type": "code",
   "execution_count": 12,
   "metadata": {
    "collapsed": false
   },
   "outputs": [
    {
     "data": {
      "image/png": "[encoded data removed]"
     },
     "metadata": {},
     "output_type": "display_data"
    }
   ],
   "source": [
    "%%R\n",
    "df = read.csv(\"../models/x0.25_5_all_use_mean/19mar_2000x1_use_mean.txt\")\n",
    "\n",
    "plot(df$train_loss, type=\"l\", xlab=\"# epochs\", ylab=\"loss\", col=\"blue\", main=\"x0.25_5_all_use_mean/19mar_2000x1_use_mean\",\n",
    "    ylim=c(  min( min(df$train_loss), min(df$valid_loss) ) , max( max(df$train_loss), max(df$valid_loss) )  ))\n",
    "lines(df$valid_loss, type=\"l\", col=\"red\")\n",
    "legend(\"topright\", legend=c(\"train loss\", \"valid loss\"), fill=c(\"blue\", \"red\"))"
   ]
  },
  {
   "cell_type": "code",
   "execution_count": null,
   "metadata": {
    "collapsed": true
   },
   "outputs": [],
   "source": []
  }
 ],
 "metadata": {
  "kernelspec": {
   "display_name": "Python 2",
   "language": "python",
   "name": "python2"
  },
  "language_info": {
   "codemirror_mode": {
    "name": "ipython",
    "version": 2
   },
   "file_extension": ".py",
   "mimetype": "text/x-python",
   "name": "python",
   "nbconvert_exporter": "python",
   "pygments_lexer": "ipython2",
   "version": "2.7.11"
  }
 },
 "nbformat": 4,
 "nbformat_minor": 0
}
