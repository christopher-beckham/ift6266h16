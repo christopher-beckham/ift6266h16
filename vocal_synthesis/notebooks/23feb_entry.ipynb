{
 "cells": [
  {
   "cell_type": "code",
   "execution_count": 13,
   "metadata": {
    "collapsed": false
   },
   "outputs": [],
   "source": [
    "import sys\n",
    "import os\n",
    "from scipy.io import wavfile\n",
    "import numpy as np\n",
    "import theano\n",
    "from theano import tensor as T\n",
    "import lasagne\n",
    "from lasagne.layers import *\n",
    "from lasagne.init import *\n",
    "from lasagne.nonlinearities import *\n",
    "from lasagne.objectives import *\n",
    "from lasagne.updates import *\n",
    "import cPickle as pickle\n",
    "import matplotlib.pyplot as plt\n",
    "%matplotlib inline"
   ]
  },
  {
   "cell_type": "code",
   "execution_count": 2,
   "metadata": {
    "collapsed": true
   },
   "outputs": [],
   "source": [
    "data_folder = os.environ[\"DATA_DIR\"]"
   ]
  },
  {
   "cell_type": "markdown",
   "metadata": {},
   "source": [
    "Ok, let's load in the data. For this dataset, $x \\in R^{16,000}$ (16,000 samples = 1 second) and each sequence is 50 elements long, so each sequence corresponds to 50 seconds of audio."
   ]
  },
  {
   "cell_type": "code",
   "execution_count": 4,
   "metadata": {
    "collapsed": true
   },
   "outputs": [],
   "source": [
    "with open(data_folder + os.path.sep + \"x1_50_all.pkl\") as f:\n",
    "    dat = pickle.load(f)"
   ]
  },
  {
   "cell_type": "code",
   "execution_count": 5,
   "metadata": {
    "collapsed": true
   },
   "outputs": [],
   "source": [
    "X_train, X_valid, X_test = dat[0]"
   ]
  },
  {
   "cell_type": "code",
   "execution_count": 6,
   "metadata": {
    "collapsed": false
   },
   "outputs": [
    {
     "data": {
      "text/plain": [
       "((174, 50, 16000), (21, 50, 16000), (21, 50, 16000))"
      ]
     },
     "execution_count": 6,
     "metadata": {},
     "output_type": "execute_result"
    }
   ],
   "source": [
    "X_train.shape, X_valid.shape, X_test.shape"
   ]
  },
  {
   "cell_type": "markdown",
   "metadata": {},
   "source": [
    "We will need to re-instantiate our trained model. We will copy some code out of `experiments/22feb_testing_a_rmsprop.py` to achieve this."
   ]
  },
  {
   "cell_type": "code",
   "execution_count": 7,
   "metadata": {
    "collapsed": true
   },
   "outputs": [],
   "source": [
    "args = dict()\n",
    "args[\"seed\"] = 0\n",
    "args[\"batch_size\"] = 16\n",
    "args[\"learning_rate\"] = 0.01\n",
    "args[\"momentum\"] = 0.9\n",
    "args[\"num_epochs\"] = 2000\n",
    "args[\"X_train\"] = X_train\n",
    "args[\"X_valid\"] = X_valid\n",
    "args[\"X_test\"] = X_test\n",
    "args[\"update_method\"] = rmsprop\n",
    "\n",
    "args[\"config\"] = \"../configurations/19feb_testing_d.py\""
   ]
  },
  {
   "cell_type": "markdown",
   "metadata": {},
   "source": [
    "Let's have a look at the network architecture/config as well."
   ]
  },
  {
   "cell_type": "code",
   "execution_count": 10,
   "metadata": {
    "collapsed": false
   },
   "outputs": [
    {
     "name": "stdout",
     "output_type": "stream",
     "text": [
      "import lasagne\n",
      "from lasagne.layers import *\n",
      "from lasagne.init import *\n",
      "from lasagne.nonlinearities import *\n",
      "from lasagne.objectives import *\n",
      "from lasagne.updates import *\n",
      "import sys\n",
      "\n",
      "def get_net(args):\n",
      "    # e.g. (bs, 50, 1800)\n",
      "    X_train = args[\"X_train\"]\n",
      "    num_inputs = X_train.shape[2]\n",
      "    seq_length = X_train.shape[1] # determined by pkl\n",
      "\n",
      "    num_hidden_units = 600\n",
      "\n",
      "    if \"seq_length\" not in args:\n",
      "        seq_length = X_train.shape[1]\n",
      "    else:\n",
      "        seq_length = args[\"seq_length\"]\n",
      "\n",
      "    l_input = InputLayer((None, seq_length, num_inputs))\n",
      "    l_forward = LSTMLayer(l_input, num_units=num_hidden_units, unroll_scan=False, precompute_input=True)\n",
      "    l_forward2 = LSTMLayer(l_forward, num_units=num_hidden_units, unroll_scan=False, precompute_input=True)\n",
      "    l_forward3 = LSTMLayer(l_forward2, num_units=num_hidden_units, unroll_scan=False, precompute_input=True)\n",
      "\n",
      "    \"\"\"\n",
      "    In order to connect a recurrent layer to a dense layer, we need to\n",
      "    flatten the first two dimensions (our \"sample dimensions\"); this will\n",
      "    cause each time step of each sequence to be processed independently\n",
      "    \"\"\"\n",
      "    l_shp = ReshapeLayer(l_forward3, (-1, num_hidden_units))\n",
      "    l_dense = DenseLayer(l_shp, num_units=num_inputs, nonlinearity=linear)\n",
      "    l_out = ReshapeLayer(l_dense, (-1, seq_length, num_inputs))\n",
      "    sys.stderr.write(\"Number of params in model: %i\\n\" % count_params(l_out))\n",
      "    return l_out\n"
     ]
    }
   ],
   "source": [
    "%%bash\n",
    "cat ../configurations/19feb_testing_d.py"
   ]
  },
  {
   "cell_type": "code",
   "execution_count": 8,
   "metadata": {
    "collapsed": false
   },
   "outputs": [
    {
     "name": "stderr",
     "output_type": "stream",
     "text": [
      "loading config: ../configurations/19feb_testing_d.py\n",
      "Number of params in model: 55232200\n"
     ]
    }
   ],
   "source": [
    "sys.path.append(\"..\")\n",
    "import rnn_experiment as exp\n",
    "symbols = exp.prepare(args)\n",
    "out_fn = symbols[\"out_fn\"]\n",
    "l_out = symbols[\"l_out\"]\n",
    "with open(data_folder + os.path.sep + \"expensive_models\" + os.path.sep + \"22feb_testing_a_rmsprop.model\") as f:\n",
    "    model = pickle.load(f)\n",
    "set_all_param_values(l_out, model)"
   ]
  },
  {
   "cell_type": "markdown",
   "metadata": {},
   "source": [
    "Ok, let's make the first 50 seconds of `X_train` our seed sequence. That means we will get a sequence $x^{(1)}, \\dots, x^{(100)}$. When we feed this sequence into the RNN, we will obtain a new predicted sequence $x^{(2)}, \\dots, x^{(101)}$, from which we will obtain $x^{(101)}$. Then, we will feed $x^{(2)}, \\dots, x^{(101)}$ into the RNN to obtain $x^{(3)}, \\dots, x^{(102)}$, from which we will obtain $x^{(102)}$ and vice versa."
   ]
  },
  {
   "cell_type": "code",
   "execution_count": 9,
   "metadata": {
    "collapsed": true
   },
   "outputs": [],
   "source": [
    "generated_seq = X_train[0:1].flatten().tolist()\n",
    "prev_seq_chunk = X_train[0:1]\n",
    "for x in range(0, 100):\n",
    "    next_seq_chunk = out_fn(prev_seq_chunk) # x2, ..., x1001\n",
    "    generated_seq += next_seq_chunk[0][-1].flatten().tolist() # append x1001 to end\n",
    "    prev_seq_chunk = next_seq_chunk"
   ]
  },
  {
   "cell_type": "markdown",
   "metadata": {},
   "source": [
    "How many seconds of audio did we generate?"
   ]
  },
  {
   "cell_type": "code",
   "execution_count": 11,
   "metadata": {
    "collapsed": false
   },
   "outputs": [
    {
     "data": {
      "text/plain": [
       "150.0"
      ]
     },
     "execution_count": 11,
     "metadata": {},
     "output_type": "execute_result"
    }
   ],
   "source": [
    "float(len(generated_seq)) / 16000.0"
   ]
  },
  {
   "cell_type": "code",
   "execution_count": 16,
   "metadata": {
    "collapsed": false
   },
   "outputs": [
    {
     "data": {
      "image/png": "[encoded data removed]",
      "text/plain": [
       "<matplotlib.figure.Figure at 0x192bc4090>"
      ]
     },
     "metadata": {},
     "output_type": "display_data"
    }
   ],
   "source": [
    "plt.plot(generated_seq)\n",
    "plt.show()"
   ]
  },
  {
   "cell_type": "markdown",
   "metadata": {},
   "source": [
    "Ok, now we need to re-scale the generated sequence back into its original values."
   ]
  },
  {
   "cell_type": "code",
   "execution_count": 12,
   "metadata": {
    "collapsed": true
   },
   "outputs": [],
   "source": [
    "fs, data = wavfile.read(data_folder + os.path.sep + \"data.wav\")\n",
    "data = np.asarray(data, dtype=\"float32\")\n",
    "this_min, this_max = np.min(data), np.max(data)"
   ]
  },
  {
   "cell_type": "code",
   "execution_count": 17,
   "metadata": {
    "collapsed": true
   },
   "outputs": [],
   "source": [
    "tmp = np.asarray(generated_seq)\n",
    "tmp = (tmp * (this_max - this_min)) + this_min"
   ]
  },
  {
   "cell_type": "code",
   "execution_count": 18,
   "metadata": {
    "collapsed": true
   },
   "outputs": [],
   "source": [
    "wavfile.write(filename=\"/tmp/t.wav\", rate=fs, data=tmp)"
   ]
  },
  {
   "cell_type": "markdown",
   "metadata": {},
   "source": [
    "Also plot learning curve."
   ]
  },
  {
   "cell_type": "code",
   "execution_count": 19,
   "metadata": {
    "collapsed": true
   },
   "outputs": [],
   "source": [
    "import pandas as pd"
   ]
  },
  {
   "cell_type": "code",
   "execution_count": 20,
   "metadata": {
    "collapsed": true
   },
   "outputs": [],
   "source": [
    "df = pd.read_csv(\"../models/22feb_testing_a_rmsprop.txt\")"
   ]
  },
  {
   "cell_type": "code",
   "execution_count": 30,
   "metadata": {
    "collapsed": false
   },
   "outputs": [
    {
     "data": {
      "image/png": "[encoded data removed]",
      "text/plain": [
       "<matplotlib.figure.Figure at 0x1bc6043d0>"
      ]
     },
     "metadata": {},
     "output_type": "display_data"
    }
   ],
   "source": [
    "plt.ylim((0.010, 0.03))\n",
    "plt.plot(df[\"train_loss\"])\n",
    "plt.show()"
   ]
  },
  {
   "cell_type": "code",
   "execution_count": 27,
   "metadata": {
    "collapsed": false
   },
   "outputs": [
    {
     "data": {
      "image/png": "[encoded data removed]",
      "text/plain": [
       "<matplotlib.figure.Figure at 0x1bc93ac10>"
      ]
     },
     "metadata": {},
     "output_type": "display_data"
    }
   ],
   "source": [
    "plt.plot(df[\"valid_loss\"])\n",
    "plt.show()"
   ]
  },
  {
   "cell_type": "code",
   "execution_count": null,
   "metadata": {
    "collapsed": true
   },
   "outputs": [],
   "source": []
  }
 ],
 "metadata": {
  "kernelspec": {
   "display_name": "Python 2",
   "language": "python",
   "name": "python2"
  },
  "language_info": {
   "codemirror_mode": {
    "name": "ipython",
    "version": 2
   },
   "file_extension": ".py",
   "mimetype": "text/x-python",
   "name": "python",
   "nbconvert_exporter": "python",
   "pygments_lexer": "ipython2",
   "version": "2.7.10"
  }
 },
 "nbformat": 4,
 "nbformat_minor": 0
}
