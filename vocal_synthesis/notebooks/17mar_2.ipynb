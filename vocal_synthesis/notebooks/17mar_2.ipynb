{
 "cells": [
  {
   "cell_type": "code",
   "execution_count": 1,
   "metadata": {
    "collapsed": false
   },
   "outputs": [
    {
     "name": "stderr",
     "output_type": "stream",
     "text": [
      "//anaconda/lib/python2.7/site-packages/Theano-0.8.0.dev0-py2.7.egg/theano/tensor/signal/downsample.py:5: UserWarning: downsample module has been moved to the pool module.\n",
      "  warnings.warn(\"downsample module has been moved to the pool module.\")\n"
     ]
    }
   ],
   "source": [
    "import sys\n",
    "import os\n",
    "from scipy.io import wavfile\n",
    "import numpy as np\n",
    "import theano\n",
    "from theano import tensor as T\n",
    "import lasagne\n",
    "from lasagne.layers import *\n",
    "from lasagne.init import *\n",
    "from lasagne.nonlinearities import *\n",
    "from lasagne.objectives import *\n",
    "from lasagne.updates import *\n",
    "import cPickle as pickle\n",
    "import matplotlib.pyplot as plt\n",
    "%matplotlib inline"
   ]
  },
  {
   "cell_type": "code",
   "execution_count": 2,
   "metadata": {
    "collapsed": true
   },
   "outputs": [],
   "source": [
    "%load_ext rpy2.ipython"
   ]
  },
  {
   "cell_type": "code",
   "execution_count": 4,
   "metadata": {
    "collapsed": true
   },
   "outputs": [],
   "source": [
    "os.environ[\"DATA_DIR\"] = \"/Volumes/CB_RESEARCH/vocal_synthesis\""
   ]
  },
  {
   "cell_type": "code",
   "execution_count": 5,
   "metadata": {
    "collapsed": false
   },
   "outputs": [
    {
     "data": {
      "text/plain": [
       "((871, 40, 4000), (108, 40, 4000), (108, 40, 4000))"
      ]
     },
     "execution_count": 5,
     "metadata": {},
     "output_type": "execute_result"
    }
   ],
   "source": [
    "data_folder = os.environ[\"DATA_DIR\"]\n",
    "with open(data_folder + os.path.sep + \"x0.25_10_all_use_mean.pkl\") as f:\n",
    "    dat = pickle.load(f)\n",
    "X_train, X_valid, X_test = dat[0]\n",
    "X_train.shape, X_valid.shape, X_test.shape"
   ]
  },
  {
   "cell_type": "code",
   "execution_count": 9,
   "metadata": {
    "collapsed": true
   },
   "outputs": [],
   "source": [
    "args = dict()\n",
    "args[\"seed\"] = 0\n",
    "args[\"batch_size\"] = 16\n",
    "args[\"learning_rate\"] = 0.01\n",
    "args[\"momentum\"] = 0.9\n",
    "args[\"num_epochs\"] = 2000\n",
    "args[\"X_train\"] = X_train\n",
    "args[\"X_valid\"] = X_valid\n",
    "args[\"X_test\"] = X_test\n",
    "args[\"update_method\"] = rmsprop\n",
    "\n",
    "args[\"config\"] = \"../configurations/19feb_testing_d_minimalist2.py\""
   ]
  },
  {
   "cell_type": "code",
   "execution_count": 12,
   "metadata": {
    "collapsed": false
   },
   "outputs": [
    {
     "name": "stderr",
     "output_type": "stream",
     "text": [
      "loading config: ../configurations/19feb_testing_d_minimalist2.py\n",
      "Number of params in model: 2206700\n"
     ]
    }
   ],
   "source": [
    "sys.path.append(\"..\")\n",
    "reload(exp)\n",
    "import rnn_experiment as exp\n",
    "symbols = exp.prepare(args)\n",
    "out_fn = symbols[\"out_fn\"]\n",
    "l_out = symbols[\"l_out\"]\n",
    "with open(data_folder + os.path.sep + \"expensive_models\" + os.path.sep + \\\n",
    "          \"x0.25_10_all_use_mean/16mar_minimalist2_use_mean.model\") as f:\n",
    "    model = pickle.load(f)\n",
    "set_all_param_values(l_out, model)"
   ]
  },
  {
   "cell_type": "code",
   "execution_count": 20,
   "metadata": {
    "collapsed": false
   },
   "outputs": [
    {
     "name": "stdout",
     "output_type": "stream",
     "text": [
      "(1, 40, 4000)\n",
      "(1, 41, 4000)\n",
      "(1, 42, 4000)\n",
      "(1, 43, 4000)\n",
      "(1, 44, 4000)\n",
      "(1, 45, 4000)\n",
      "(1, 46, 4000)\n",
      "(1, 47, 4000)\n",
      "(1, 48, 4000)\n",
      "(1, 49, 4000)\n",
      "(1, 50, 4000)\n",
      "(1, 51, 4000)\n",
      "(1, 52, 4000)\n",
      "(1, 53, 4000)\n",
      "(1, 54, 4000)\n",
      "(1, 55, 4000)\n",
      "(1, 56, 4000)\n",
      "(1, 57, 4000)\n",
      "(1, 58, 4000)\n",
      "(1, 59, 4000)\n",
      "(1, 60, 4000)\n",
      "(1, 61, 4000)\n",
      "(1, 62, 4000)\n",
      "(1, 63, 4000)\n",
      "(1, 64, 4000)\n",
      "(1, 65, 4000)\n",
      "(1, 66, 4000)\n",
      "(1, 67, 4000)\n",
      "(1, 68, 4000)\n",
      "(1, 69, 4000)\n",
      "(1, 70, 4000)\n",
      "(1, 71, 4000)\n",
      "(1, 72, 4000)\n",
      "(1, 73, 4000)\n",
      "(1, 74, 4000)\n",
      "(1, 75, 4000)\n",
      "(1, 76, 4000)\n",
      "(1, 77, 4000)\n",
      "(1, 78, 4000)\n",
      "(1, 79, 4000)\n",
      "(1, 80, 4000)\n",
      "(1, 81, 4000)\n",
      "(1, 82, 4000)\n",
      "(1, 83, 4000)\n",
      "(1, 84, 4000)\n",
      "(1, 85, 4000)\n",
      "(1, 86, 4000)\n",
      "(1, 87, 4000)\n",
      "(1, 88, 4000)\n",
      "(1, 89, 4000)\n",
      "(1, 90, 4000)\n",
      "(1, 91, 4000)\n",
      "(1, 92, 4000)\n",
      "(1, 93, 4000)\n",
      "(1, 94, 4000)\n",
      "(1, 95, 4000)\n",
      "(1, 96, 4000)\n",
      "(1, 97, 4000)\n",
      "(1, 98, 4000)\n",
      "(1, 99, 4000)\n",
      "(1, 100, 4000)\n",
      "(1, 101, 4000)\n",
      "(1, 102, 4000)\n",
      "(1, 103, 4000)\n",
      "(1, 104, 4000)\n",
      "(1, 105, 4000)\n",
      "(1, 106, 4000)\n",
      "(1, 107, 4000)\n",
      "(1, 108, 4000)\n",
      "(1, 109, 4000)\n",
      "(1, 110, 4000)\n",
      "(1, 111, 4000)\n",
      "(1, 112, 4000)\n",
      "(1, 113, 4000)\n",
      "(1, 114, 4000)\n",
      "(1, 115, 4000)\n",
      "(1, 116, 4000)\n",
      "(1, 117, 4000)\n",
      "(1, 118, 4000)\n",
      "(1, 119, 4000)\n",
      "(1, 120, 4000)\n",
      "(1, 121, 4000)\n",
      "(1, 122, 4000)\n",
      "(1, 123, 4000)\n",
      "(1, 124, 4000)\n",
      "(1, 125, 4000)\n",
      "(1, 126, 4000)\n",
      "(1, 127, 4000)\n",
      "(1, 128, 4000)\n",
      "(1, 129, 4000)\n",
      "(1, 130, 4000)\n",
      "(1, 131, 4000)\n",
      "(1, 132, 4000)\n",
      "(1, 133, 4000)\n",
      "(1, 134, 4000)\n",
      "(1, 135, 4000)\n",
      "(1, 136, 4000)\n",
      "(1, 137, 4000)\n",
      "(1, 138, 4000)\n",
      "(1, 139, 4000)\n",
      "(1, 140, 4000)\n",
      "(1, 141, 4000)\n",
      "(1, 142, 4000)\n",
      "(1, 143, 4000)\n",
      "(1, 144, 4000)\n",
      "(1, 145, 4000)\n",
      "(1, 146, 4000)\n",
      "(1, 147, 4000)\n",
      "(1, 148, 4000)\n",
      "(1, 149, 4000)\n",
      "(1, 150, 4000)\n",
      "(1, 151, 4000)\n",
      "(1, 152, 4000)\n",
      "(1, 153, 4000)\n",
      "(1, 154, 4000)\n",
      "(1, 155, 4000)\n",
      "(1, 156, 4000)\n",
      "(1, 157, 4000)\n",
      "(1, 158, 4000)\n",
      "(1, 159, 4000)\n",
      "(1, 160, 4000)\n",
      "(1, 161, 4000)\n",
      "(1, 162, 4000)\n",
      "(1, 163, 4000)\n",
      "(1, 164, 4000)\n",
      "(1, 165, 4000)\n",
      "(1, 166, 4000)\n",
      "(1, 167, 4000)\n",
      "(1, 168, 4000)\n",
      "(1, 169, 4000)\n",
      "(1, 170, 4000)\n",
      "(1, 171, 4000)\n",
      "(1, 172, 4000)\n",
      "(1, 173, 4000)\n",
      "(1, 174, 4000)\n",
      "(1, 175, 4000)\n",
      "(1, 176, 4000)\n",
      "(1, 177, 4000)\n",
      "(1, 178, 4000)\n",
      "(1, 179, 4000)\n",
      "(1, 180, 4000)\n",
      "(1, 181, 4000)\n",
      "(1, 182, 4000)\n",
      "(1, 183, 4000)\n",
      "(1, 184, 4000)\n",
      "(1, 185, 4000)\n",
      "(1, 186, 4000)\n",
      "(1, 187, 4000)\n",
      "(1, 188, 4000)\n",
      "(1, 189, 4000)\n",
      "(1, 190, 4000)\n",
      "(1, 191, 4000)\n",
      "(1, 192, 4000)\n",
      "(1, 193, 4000)\n",
      "(1, 194, 4000)\n",
      "(1, 195, 4000)\n",
      "(1, 196, 4000)\n",
      "(1, 197, 4000)\n",
      "(1, 198, 4000)\n",
      "(1, 199, 4000)\n",
      "(1, 200, 4000)\n",
      "(1, 201, 4000)\n",
      "(1, 202, 4000)\n",
      "(1, 203, 4000)\n",
      "(1, 204, 4000)\n",
      "(1, 205, 4000)\n",
      "(1, 206, 4000)\n",
      "(1, 207, 4000)\n",
      "(1, 208, 4000)\n",
      "(1, 209, 4000)\n",
      "(1, 210, 4000)\n",
      "(1, 211, 4000)\n",
      "(1, 212, 4000)\n",
      "(1, 213, 4000)\n",
      "(1, 214, 4000)\n",
      "(1, 215, 4000)\n",
      "(1, 216, 4000)\n",
      "(1, 217, 4000)\n",
      "(1, 218, 4000)\n",
      "(1, 219, 4000)\n",
      "(1, 220, 4000)\n",
      "(1, 221, 4000)\n",
      "(1, 222, 4000)\n",
      "(1, 223, 4000)\n",
      "(1, 224, 4000)\n",
      "(1, 225, 4000)\n",
      "(1, 226, 4000)\n",
      "(1, 227, 4000)\n",
      "(1, 228, 4000)\n",
      "(1, 229, 4000)\n",
      "(1, 230, 4000)\n",
      "(1, 231, 4000)\n",
      "(1, 232, 4000)\n",
      "(1, 233, 4000)\n",
      "(1, 234, 4000)\n",
      "(1, 235, 4000)\n",
      "(1, 236, 4000)\n",
      "(1, 237, 4000)\n",
      "(1, 238, 4000)\n",
      "(1, 239, 4000)\n"
     ]
    }
   ],
   "source": [
    "generated_seq = X_train[0:1,0:40].flatten().tolist()\n",
    "generated_seq_array = []\n",
    "# x1, x2, ..., x40\n",
    "for i in range(0, 40):\n",
    "    generated_seq_array.append(X_train[0:1, i, :][0])\n",
    "ctr = 0\n",
    "for x in range(0, 200):\n",
    "    #this_input = np.asarray(generated_seq_array[ctr::])\n",
    "    this_input = np.asarray(generated_seq_array)\n",
    "    this_input = this_input.reshape( (1, this_input.shape[0], this_input.shape[1]))\n",
    "    print this_input.shape\n",
    "    \n",
    "    #print this_input.shape\n",
    "    #assert this_input.shape == (1, 40, 4000)\n",
    "    \n",
    "    # (1, 40, 4000) -> (40, 4000) -> get last elem\n",
    "    # predict x2, x3, ..., x41\n",
    "    # then append x41 to generated_seq_array\n",
    "    # now next time, feed [x2, x3, ..., x41] to out_fn to get\n",
    "    # [x3, x4, ... x42]\n",
    "    this_out = out_fn(this_input)[0][-1]\n",
    "    assert this_out.shape == (4000,)\n",
    "    #print this_out.shape\n",
    "    \n",
    "    generated_seq_array.append(this_out)\n",
    "    \n",
    "    ctr += 1"
   ]
  },
  {
   "cell_type": "code",
   "execution_count": 18,
   "metadata": {
    "collapsed": false
   },
   "outputs": [
    {
     "data": {
      "text/plain": [
       "(960000,)"
      ]
     },
     "execution_count": 18,
     "metadata": {},
     "output_type": "execute_result"
    }
   ],
   "source": [
    "np.asarray(generated_seq_array).flatten().shape"
   ]
  },
  {
   "cell_type": "code",
   "execution_count": 19,
   "metadata": {
    "collapsed": false
   },
   "outputs": [
    {
     "data": {
      "text/plain": [
       "[<matplotlib.lines.Line2D at 0x115280290>]"
      ]
     },
     "execution_count": 19,
     "metadata": {},
     "output_type": "execute_result"
    },
    {
     "data": {
      "image/png": "[encoded data removed]",
      "text/plain": [
       "<matplotlib.figure.Figure at 0x128fd2710>"
      ]
     },
     "metadata": {},
     "output_type": "display_data"
    }
   ],
   "source": [
    "generated_seq = np.asarray(generated_seq_array).flatten()\n",
    "plt.plot(generated_seq)"
   ]
  },
  {
   "cell_type": "code",
   "execution_count": 31,
   "metadata": {
    "collapsed": false
   },
   "outputs": [
    {
     "name": "stdout",
     "output_type": "stream",
     "text": [
      "int16\n"
     ]
    }
   ],
   "source": [
    "fs, data = wavfile.read(data_folder + os.path.sep + \"data.wav\")\n",
    "print data.dtype\n",
    "data = np.asarray(data, dtype=\"float32\")\n",
    "min_, max_, mean_ = np.min(data), np.max(data), np.mean(data)"
   ]
  },
  {
   "cell_type": "code",
   "execution_count": 121,
   "metadata": {
    "collapsed": true
   },
   "outputs": [],
   "source": [
    "tmp = np.asarray(generated_seq)\n",
    "tmp = (tmp * (max_ - min_)) + mean_\n",
    "tmp = np.asarray(tmp, dtype=\"int16\")"
   ]
  },
  {
   "cell_type": "code",
   "execution_count": 122,
   "metadata": {
    "collapsed": false
   },
   "outputs": [
    {
     "data": {
      "text/plain": [
       "[<matplotlib.lines.Line2D at 0x12f34db50>]"
      ]
     },
     "execution_count": 122,
     "metadata": {},
     "output_type": "execute_result"
    },
    {
     "data": {
      "image/png": "[encoded data removed]",
      "text/plain": [
       "<matplotlib.figure.Figure at 0x11d3caad0>"
      ]
     },
     "metadata": {},
     "output_type": "display_data"
    }
   ],
   "source": [
    "plt.plot(tmp)"
   ]
  },
  {
   "cell_type": "code",
   "execution_count": 123,
   "metadata": {
    "collapsed": false
   },
   "outputs": [],
   "source": [
    "out_file = \"/tmp/t6000.wav\"\n",
    "#os.remove(out_file)\n",
    "wavfile.write(filename=out_file, rate=fs, data=tmp)"
   ]
  },
  {
   "cell_type": "markdown",
   "metadata": {},
   "source": [
    "----"
   ]
  },
  {
   "cell_type": "code",
   "execution_count": 54,
   "metadata": {
    "collapsed": false
   },
   "outputs": [
    {
     "data": {
      "image/png": "[encoded data removed]"
     },
     "metadata": {},
     "output_type": "display_data"
    }
   ],
   "source": [
    "%%R\n",
    "df = read.csv(\"../models/x0.25_10_all_use_mean/16mar_minimalist2_use_mean.txt\")\n",
    "\n",
    "plot(df$train_loss, type=\"l\", xlab=\"# epochs\", ylab=\"loss\", col=\"blue\", main=\"x0.25_10_all_use_mean/16mar_minimalist2_gauss_use_mean\",\n",
    "    ylim=c(  min( min(df$train_loss), min(df$valid_loss) ) , max( max(df$train_loss), max(df$valid_loss) )  ))\n",
    "lines(df$valid_loss, type=\"l\", col=\"red\")\n",
    "legend(\"topright\", legend=c(\"train loss\", \"valid loss\"), fill=c(\"blue\", \"red\"))"
   ]
  },
  {
   "cell_type": "code",
   "execution_count": null,
   "metadata": {
    "collapsed": true
   },
   "outputs": [],
   "source": []
  }
 ],
 "metadata": {
  "kernelspec": {
   "display_name": "Python 2",
   "language": "python",
   "name": "python2"
  },
  "language_info": {
   "codemirror_mode": {
    "name": "ipython",
    "version": 2
   },
   "file_extension": ".py",
   "mimetype": "text/x-python",
   "name": "python",
   "nbconvert_exporter": "python",
   "pygments_lexer": "ipython2",
   "version": "2.7.11"
  }
 },
 "nbformat": 4,
 "nbformat_minor": 0
}
