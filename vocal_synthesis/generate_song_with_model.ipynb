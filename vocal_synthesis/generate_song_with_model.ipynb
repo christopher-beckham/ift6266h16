{
 "cells": [
  {
   "cell_type": "code",
   "execution_count": 1,
   "metadata": {
    "collapsed": false
   },
   "outputs": [
    {
     "name": "stderr",
     "output_type": "stream",
     "text": [
      "//anaconda/lib/python2.7/site-packages/Theano-0.8.0.dev0-py2.7.egg/theano/tensor/signal/downsample.py:5: UserWarning: downsample module has been moved to the pool module.\n",
      "  warnings.warn(\"downsample module has been moved to the pool module.\")\n"
     ]
    }
   ],
   "source": [
    "import sys\n",
    "import os\n",
    "from scipy.io import wavfile\n",
    "import numpy as np\n",
    "data_folder = \"/Volumes/CB_RESEARCH/vocal_synthesis/\"\n",
    "import theano\n",
    "from theano import tensor as T\n",
    "import lasagne\n",
    "from lasagne.layers import *\n",
    "from lasagne.init import *\n",
    "from lasagne.nonlinearities import *\n",
    "import cPickle as pickle\n",
    "import experiment"
   ]
  },
  {
   "cell_type": "code",
   "execution_count": 2,
   "metadata": {
    "collapsed": true
   },
   "outputs": [],
   "source": [
    "with open(\"out.model\") as f:\n",
    "    model = pickle.load(f)"
   ]
  },
  {
   "cell_type": "code",
   "execution_count": 3,
   "metadata": {
    "collapsed": false
   },
   "outputs": [
    {
     "name": "stderr",
     "output_type": "stream",
     "text": [
      "Number of params in model: 20201\n"
     ]
    }
   ],
   "source": [
    "args = dict()\n",
    "args[\"batch_size\"] = 128\n",
    "args[\"chunk_size\"] = 200\n",
    "args[\"learning_rate\"] = 0.01\n",
    "args[\"momentum\"] = 0.9\n",
    "args[\"num_epochs\"] = 20\n",
    "\n",
    "symbols = experiment.prepare(args)\n",
    "l_out = symbols[\"l_out\"]"
   ]
  },
  {
   "cell_type": "code",
   "execution_count": 4,
   "metadata": {
    "collapsed": false
   },
   "outputs": [],
   "source": [
    "lasagne.layers.set_all_param_values(l_out, model[\"params\"])"
   ]
  },
  {
   "cell_type": "code",
   "execution_count": 5,
   "metadata": {
    "collapsed": true
   },
   "outputs": [],
   "source": [
    "fs, data = wavfile.read(data_folder + os.path.sep + \"data.wav\")\n",
    "#data = np.asarray(data, dtype=\"float32\")\n",
    "mean = np.mean(data)\n",
    "std = np.std(data)\n",
    "data = (data - mean) / std\n",
    "data = data.tolist()"
   ]
  },
  {
   "cell_type": "code",
   "execution_count": 6,
   "metadata": {
    "collapsed": false
   },
   "outputs": [],
   "source": [
    "get_out = symbols[\"get_out\"]"
   ]
  },
  {
   "cell_type": "code",
   "execution_count": 13,
   "metadata": {
    "collapsed": false
   },
   "outputs": [
    {
     "name": "stdout",
     "output_type": "stream",
     "text": [
      "-0.329727245721\n",
      "0.341807784139\n"
     ]
    }
   ],
   "source": [
    "seed_vector = data[5000:5000+200]\n",
    "#get_out( np.asarray([data[0:200]], dtype=\"float32\") )\n",
    "print np.min(seed_vector)\n",
    "print np.max(seed_vector)"
   ]
  },
  {
   "cell_type": "code",
   "execution_count": 14,
   "metadata": {
    "collapsed": false
   },
   "outputs": [],
   "source": [
    "for b in range(0, 500000):\n",
    "    next_value = get_out( np.asarray([ seed_vector[b::] ], dtype=\"float32\") )[0][0]\n",
    "    #print next_value\n",
    "    seed_vector.append(next_value)"
   ]
  },
  {
   "cell_type": "code",
   "execution_count": 15,
   "metadata": {
    "collapsed": false
   },
   "outputs": [
    {
     "name": "stdout",
     "output_type": "stream",
     "text": [
      "-0.329727245721\n",
      "0.341807784139\n"
     ]
    }
   ],
   "source": [
    "print np.min(seed_vector)\n",
    "print np.max(seed_vector)"
   ]
  },
  {
   "cell_type": "code",
   "execution_count": 17,
   "metadata": {
    "collapsed": false
   },
   "outputs": [
    {
     "data": {
      "text/plain": [
       "31"
      ]
     },
     "execution_count": 17,
     "metadata": {},
     "output_type": "execute_result"
    }
   ],
   "source": [
    "len(seed_vector) / fs"
   ]
  },
  {
   "cell_type": "code",
   "execution_count": 18,
   "metadata": {
    "collapsed": false
   },
   "outputs": [],
   "source": [
    "?wavfile.write"
   ]
  },
  {
   "cell_type": "code",
   "execution_count": 27,
   "metadata": {
    "collapsed": true
   },
   "outputs": [],
   "source": [
    "result = (np.asarray(seed_vector)*std) + mean\n",
    "result = np.asarray(result, dtype=\"int32\")"
   ]
  },
  {
   "cell_type": "code",
   "execution_count": 28,
   "metadata": {
    "collapsed": false
   },
   "outputs": [
    {
     "data": {
      "text/plain": [
       "array([419, 389, 336, ...,  28,  43,  59], dtype=int32)"
      ]
     },
     "execution_count": 28,
     "metadata": {},
     "output_type": "execute_result"
    }
   ],
   "source": [
    "result"
   ]
  },
  {
   "cell_type": "code",
   "execution_count": 34,
   "metadata": {
    "collapsed": false
   },
   "outputs": [],
   "source": [
    "wavfile.write(filename=\"/tmp/file.wav\", rate=fs, data=result)"
   ]
  },
  {
   "cell_type": "code",
   "execution_count": 36,
   "metadata": {
    "collapsed": false
   },
   "outputs": [
    {
     "name": "stdout",
     "output_type": "stream",
     "text": [
      "-707\n",
      "733\n"
     ]
    }
   ],
   "source": [
    "print np.min(result)\n",
    "print np.max(result)"
   ]
  },
  {
   "cell_type": "code",
   "execution_count": 37,
   "metadata": {
    "collapsed": false
   },
   "outputs": [
    {
     "name": "stdout",
     "output_type": "stream",
     "text": [
      "-8936\n",
      "9124\n"
     ]
    }
   ],
   "source": [
    "print np.min(tmp)\n",
    "print np.max(tmp)"
   ]
  },
  {
   "cell_type": "code",
   "execution_count": 39,
   "metadata": {
    "collapsed": false
   },
   "outputs": [
    {
     "data": {
      "text/plain": [
       "0.5227574750830565"
      ]
     },
     "execution_count": 39,
     "metadata": {},
     "output_type": "execute_result"
    }
   ],
   "source": [
    "(505.0 - (-8936)) / (9124 - -8936)"
   ]
  },
  {
   "cell_type": "code",
   "execution_count": null,
   "metadata": {
    "collapsed": true
   },
   "outputs": [],
   "source": []
  }
 ],
 "metadata": {
  "kernelspec": {
   "display_name": "Python 2",
   "language": "python",
   "name": "python2"
  },
  "language_info": {
   "codemirror_mode": {
    "name": "ipython",
    "version": 2
   },
   "file_extension": ".py",
   "mimetype": "text/x-python",
   "name": "python",
   "nbconvert_exporter": "python",
   "pygments_lexer": "ipython2",
   "version": "2.7.10"
  }
 },
 "nbformat": 4,
 "nbformat_minor": 0
}
