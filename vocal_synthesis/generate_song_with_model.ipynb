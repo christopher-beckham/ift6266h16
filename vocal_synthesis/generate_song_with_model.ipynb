{
 "cells": [
  {
   "cell_type": "code",
   "execution_count": 74,
   "metadata": {
    "collapsed": false
   },
   "outputs": [],
   "source": [
    "import sys\n",
    "import os\n",
    "from scipy.io import wavfile\n",
    "import numpy as np\n",
    "data_folder = \"/Volumes/CB_RESEARCH/vocal_synthesis/\"\n",
    "import theano\n",
    "from theano import tensor as T\n",
    "import lasagne\n",
    "from lasagne.layers import *\n",
    "from lasagne.init import *\n",
    "from lasagne.nonlinearities import *\n",
    "import cPickle as pickle\n",
    "import experiment"
   ]
  },
  {
   "cell_type": "code",
   "execution_count": 75,
   "metadata": {
    "collapsed": true
   },
   "outputs": [],
   "source": [
    "with open(\"out.model\") as f:\n",
    "    model = pickle.load(f)"
   ]
  },
  {
   "cell_type": "code",
   "execution_count": 76,
   "metadata": {
    "collapsed": false
   },
   "outputs": [
    {
     "name": "stderr",
     "output_type": "stream",
     "text": [
      "Number of params in model: 20201\n"
     ]
    }
   ],
   "source": [
    "args = dict()\n",
    "args[\"batch_size\"] = 128\n",
    "args[\"chunk_size\"] = 200\n",
    "args[\"learning_rate\"] = 0.01\n",
    "args[\"momentum\"] = 0.9\n",
    "args[\"num_epochs\"] = 20\n",
    "\n",
    "symbols = experiment.prepare(args)\n",
    "l_out = symbols[\"l_out\"]"
   ]
  },
  {
   "cell_type": "code",
   "execution_count": 78,
   "metadata": {
    "collapsed": false
   },
   "outputs": [
    {
     "data": {
      "text/plain": [
       "{'max': 9124.0, 'min': -8936.0, 'params': [W, b, W, b]}"
      ]
     },
     "execution_count": 78,
     "metadata": {},
     "output_type": "execute_result"
    }
   ],
   "source": [
    "model"
   ]
  },
  {
   "cell_type": "code",
   "execution_count": 81,
   "metadata": {
    "collapsed": false
   },
   "outputs": [],
   "source": [
    "tmp_model = [ model[\"params\"][0].get_value(), model[\"params\"][1].get_value(),\n",
    "           model[\"params\"][2].get_value(), model[\"params\"][3].get_value() ]"
   ]
  },
  {
   "cell_type": "code",
   "execution_count": 82,
   "metadata": {
    "collapsed": false
   },
   "outputs": [],
   "source": [
    "lasagne.layers.set_all_param_values(l_out, tmp_model)"
   ]
  },
  {
   "cell_type": "code",
   "execution_count": 96,
   "metadata": {
    "collapsed": false
   },
   "outputs": [
    {
     "name": "stdout",
     "output_type": "stream",
     "text": [
      "min, max before normalisation: -8936.000000, 9124.000000\n",
      "\n",
      "min, max after normalisation: 0.000000, 1.000000\n",
      "\n"
     ]
    }
   ],
   "source": [
    "fs, data = wavfile.read(data_folder + os.path.sep + \"data.wav\")\n",
    "data = np.asarray(data, dtype=\"float32\")\n",
    "print \"min, max before normalisation: %f, %f\\n\" % (np.min(data), np.max(data)) \n",
    "data = (data - model[\"min\"]) / (model[\"max\"] - model[\"min\"])\n",
    "print \"min, max after normalisation: %f, %f\\n\" % (np.min(data), np.max(data)) \n",
    "data = data.tolist()"
   ]
  },
  {
   "cell_type": "code",
   "execution_count": 86,
   "metadata": {
    "collapsed": false
   },
   "outputs": [],
   "source": [
    "get_out = symbols[\"get_out\"]"
   ]
  },
  {
   "cell_type": "code",
   "execution_count": 87,
   "metadata": {
    "collapsed": false
   },
   "outputs": [
    {
     "name": "stdout",
     "output_type": "stream",
     "text": [
      "0.455647826195\n",
      "0.535382032394\n"
     ]
    }
   ],
   "source": [
    "seed_vector = data[5000:5000+200]\n",
    "#get_out( np.asarray([data[0:200]], dtype=\"float32\") )\n",
    "print np.min(seed_vector)\n",
    "print np.max(seed_vector)"
   ]
  },
  {
   "cell_type": "code",
   "execution_count": 88,
   "metadata": {
    "collapsed": false
   },
   "outputs": [],
   "source": [
    "for b in range(0, 100000):\n",
    "    next_value = get_out( np.asarray([ seed_vector[b::] ], dtype=\"float32\") )[0][0]\n",
    "    #print next_value\n",
    "    seed_vector.append(next_value)"
   ]
  },
  {
   "cell_type": "code",
   "execution_count": 89,
   "metadata": {
    "collapsed": false
   },
   "outputs": [
    {
     "name": "stdout",
     "output_type": "stream",
     "text": [
      "0.449085719942\n",
      "0.584380835989\n"
     ]
    }
   ],
   "source": [
    "print np.min(seed_vector)\n",
    "print np.max(seed_vector)"
   ]
  },
  {
   "cell_type": "code",
   "execution_count": 90,
   "metadata": {
    "collapsed": false
   },
   "outputs": [
    {
     "data": {
      "text/plain": [
       "6"
      ]
     },
     "execution_count": 90,
     "metadata": {},
     "output_type": "execute_result"
    }
   ],
   "source": [
    "len(seed_vector) / fs"
   ]
  },
  {
   "cell_type": "code",
   "execution_count": 91,
   "metadata": {
    "collapsed": true
   },
   "outputs": [],
   "source": [
    "result = (np.asarray(seed_vector) * (model[\"max\"] - model[\"min\"])) + model[\"min\"]\n",
    "result = np.asarray(result, dtype=\"int32\")"
   ]
  },
  {
   "cell_type": "code",
   "execution_count": 92,
   "metadata": {
    "collapsed": false
   },
   "outputs": [
    {
     "data": {
      "text/plain": [
       "array([419, 388, 336, ...,  79,  79,  79], dtype=int32)"
      ]
     },
     "execution_count": 92,
     "metadata": {},
     "output_type": "execute_result"
    }
   ],
   "source": [
    "result"
   ]
  },
  {
   "cell_type": "code",
   "execution_count": 93,
   "metadata": {
    "collapsed": false
   },
   "outputs": [
    {
     "name": "stdout",
     "output_type": "stream",
     "text": [
      "-825\n",
      "1617\n"
     ]
    }
   ],
   "source": [
    "print np.min(result)\n",
    "print np.max(result)"
   ]
  },
  {
   "cell_type": "code",
   "execution_count": 94,
   "metadata": {
    "collapsed": false
   },
   "outputs": [
    {
     "name": "stdout",
     "output_type": "stream",
     "text": [
      "-8936.0\n",
      "9124.0\n"
     ]
    }
   ],
   "source": [
    "print model[\"min\"]\n",
    "print model[\"max\"]"
   ]
  },
  {
   "cell_type": "code",
   "execution_count": 73,
   "metadata": {
    "collapsed": false
   },
   "outputs": [],
   "source": [
    "wavfile.write(filename=\"/tmp/file.wav\", rate=fs, data=result)"
   ]
  },
  {
   "cell_type": "code",
   "execution_count": 36,
   "metadata": {
    "collapsed": false
   },
   "outputs": [
    {
     "name": "stdout",
     "output_type": "stream",
     "text": [
      "-707\n",
      "733\n"
     ]
    }
   ],
   "source": [
    "print np.min(result)\n",
    "print np.max(result)"
   ]
  },
  {
   "cell_type": "code",
   "execution_count": 37,
   "metadata": {
    "collapsed": false
   },
   "outputs": [
    {
     "name": "stdout",
     "output_type": "stream",
     "text": [
      "-8936\n",
      "9124\n"
     ]
    }
   ],
   "source": [
    "print np.min(tmp)\n",
    "print np.max(tmp)"
   ]
  },
  {
   "cell_type": "code",
   "execution_count": 39,
   "metadata": {
    "collapsed": false
   },
   "outputs": [
    {
     "data": {
      "text/plain": [
       "0.5227574750830565"
      ]
     },
     "execution_count": 39,
     "metadata": {},
     "output_type": "execute_result"
    }
   ],
   "source": [
    "(505.0 - (-8936)) / (9124 - -8936)"
   ]
  },
  {
   "cell_type": "code",
   "execution_count": 98,
   "metadata": {
    "collapsed": false
   },
   "outputs": [
    {
     "data": {
      "text/plain": [
       "array([ 0.,  0.,  0., ...,  0.,  0.,  0.], dtype=float32)"
      ]
     },
     "execution_count": 98,
     "metadata": {},
     "output_type": "execute_result"
    }
   ],
   "source": [
    "_, tmpdata = wavfile.read(data_folder + os.path.sep + \"data.wav\")\n",
    "tmpdata = np.asarray(tmpdata, dtype=\"float32\")\n",
    "tmpdata"
   ]
  },
  {
   "cell_type": "code",
   "execution_count": 99,
   "metadata": {
    "collapsed": true
   },
   "outputs": [],
   "source": [
    "tmpdata2 = (tmpdata - model[\"min\"]) / (model[\"max\"] - model[\"min\"])"
   ]
  },
  {
   "cell_type": "code",
   "execution_count": 100,
   "metadata": {
    "collapsed": false
   },
   "outputs": [
    {
     "data": {
      "text/plain": [
       "(0.0, 1.0)"
      ]
     },
     "execution_count": 100,
     "metadata": {},
     "output_type": "execute_result"
    }
   ],
   "source": [
    "np.min(tmpdata2), np.max(tmpdata2)"
   ]
  },
  {
   "cell_type": "code",
   "execution_count": null,
   "metadata": {
    "collapsed": true
   },
   "outputs": [],
   "source": []
  }
 ],
 "metadata": {
  "kernelspec": {
   "display_name": "Python 2",
   "language": "python",
   "name": "python2"
  },
  "language_info": {
   "codemirror_mode": {
    "name": "ipython",
    "version": 2
   },
   "file_extension": ".py",
   "mimetype": "text/x-python",
   "name": "python",
   "nbconvert_exporter": "python",
   "pygments_lexer": "ipython2",
   "version": "2.7.10"
  }
 },
 "nbformat": 4,
 "nbformat_minor": 0
}
