{
 "cells": [
  {
   "cell_type": "code",
   "execution_count": 1,
   "metadata": {
    "collapsed": true
   },
   "outputs": [],
   "source": [
    "from scipy.io import wavfile\n",
    "import cPickle as pickle\n",
    "import sys\n",
    "import os\n",
    "import numpy as np"
   ]
  },
  {
   "cell_type": "code",
   "execution_count": 24,
   "metadata": {
    "collapsed": false
   },
   "outputs": [
    {
     "data": {
      "text/plain": [
       "10.0"
      ]
     },
     "execution_count": 24,
     "metadata": {},
     "output_type": "execute_result"
    }
   ],
   "source": [
    "(0.5 * 16000 * 20) / 16000"
   ]
  },
  {
   "cell_type": "code",
   "execution_count": 26,
   "metadata": {
    "collapsed": false
   },
   "outputs": [
    {
     "name": "stdout",
     "output_type": "stream",
     "text": [
      "each x will represent 8000.000000 samples (0.500000 seconds)\n",
      "each sequence will represent 10.000000 seconds\n",
      "truncating input data to 1200 seconds\n"
     ]
    },
    {
     "name": "stderr",
     "output_type": "stream",
     "text": [
      "truncating data to 1200 seconds\n"
     ]
    }
   ],
   "source": [
    "test_start = 0.9\n",
    "valid_start = 0.8\n",
    "\n",
    "data_folder = os.environ[\"DATA_DIR\"]\n",
    "\n",
    "fs, data = wavfile.read(data_folder + os.path.sep + \"data.wav\")\n",
    "data = np.asarray(data, dtype=\"float32\")\n",
    "\n",
    "# if x_length == 0.5, then\n",
    "# x_length*fs = 16000*0.5 = 8000\n",
    "# so an x^i represents 0.5 of a second\n",
    "x_length = 0.5\n",
    "print \"each x will represent %f samples (%f seconds)\" % (x_length*fs, x_length)\n",
    "# a sequence is x_length*fs*seq_length long\n",
    "seq_length = 20\n",
    "print \"each sequence will represent %f seconds\" % ((0.5 * fs * 20) / fs)\n",
    "\n",
    "how_many_seconds = 60*20 # 20 minutes\n",
    "print \"truncating input data to %i seconds\" % (how_many_seconds)\n",
    "\n",
    "if how_many_seconds > 0:\n",
    "    sys.stderr.write(\"truncating data to %i seconds\\n\" % how_many_seconds)\n",
    "    data = data[0: how_many_seconds*fs]"
   ]
  },
  {
   "cell_type": "code",
   "execution_count": 27,
   "metadata": {
    "collapsed": false
   },
   "outputs": [
    {
     "name": "stderr",
     "output_type": "stream",
     "text": [
      "/anaconda/lib/python2.7/site-packages/ipykernel/__main__.py:2: DeprecationWarning: using a non-integer number instead of an integer will result in an error in the future\n",
      "  from ipykernel import kernelapp as app\n",
      "/anaconda/lib/python2.7/site-packages/ipykernel/__main__.py:4: DeprecationWarning: using a non-integer number instead of an integer will result in an error in the future\n",
      "/anaconda/lib/python2.7/site-packages/ipykernel/__main__.py:6: DeprecationWarning: using a non-integer number instead of an integer will result in an error in the future\n"
     ]
    }
   ],
   "source": [
    "# e.g. 0 -> 0.8\n",
    "train_data = data[ 0 : len(data)*valid_start ]\n",
    "# e.g. 0.8 -> 0.9 \n",
    "valid_data = data[ len(data)*valid_start : len(data)*test_start ]\n",
    "# e.g. 0.9 ::\n",
    "test_data = data[ len(data)*test_start :: ]\n",
    "\n",
    "min_ = np.min(data)\n",
    "max_ = np.max(data)\n",
    "train_data = (train_data - min_) / (max_ - min_)\n",
    "valid_data = (valid_data - min_) / (max_ - min_)\n",
    "test_data = (test_data - min_) / (max_ - min_)\n",
    "\n",
    "dd = [train_data, valid_data, test_data]"
   ]
  },
  {
   "cell_type": "code",
   "execution_count": 39,
   "metadata": {
    "collapsed": false
   },
   "outputs": [],
   "source": [
    "for i in range(0, len(dd)):\n",
    "    b = 0\n",
    "    x_size = int(x_length*fs)\n",
    "    batches = []\n",
    "    seq = []\n",
    "    while True:\n",
    "        if b*x_size >= dd[i].shape[0]:\n",
    "            break\n",
    "        this_x = dd[i][b*x_size : (b+1)*x_size]\n",
    "        seq.append(this_x)\n",
    "        if len(seq) == seq_length:\n",
    "            batches.append(seq)\n",
    "            seq = []\n",
    "        b += 1\n",
    "    dd[i] = np.asarray(batches, dtype=\"float32\")"
   ]
  },
  {
   "cell_type": "code",
   "execution_count": 41,
   "metadata": {
    "collapsed": false
   },
   "outputs": [
    {
     "name": "stdout",
     "output_type": "stream",
     "text": [
      "(96, 20, 8000)\n",
      "(12, 20, 8000)\n",
      "(12, 20, 8000)\n"
     ]
    }
   ],
   "source": [
    "for elem in dd:\n",
    "    print elem.shape"
   ]
  },
  {
   "cell_type": "code",
   "execution_count": null,
   "metadata": {
    "collapsed": true
   },
   "outputs": [],
   "source": []
  }
 ],
 "metadata": {
  "kernelspec": {
   "display_name": "Python 2",
   "language": "python",
   "name": "python2"
  },
  "language_info": {
   "codemirror_mode": {
    "name": "ipython",
    "version": 2
   },
   "file_extension": ".py",
   "mimetype": "text/x-python",
   "name": "python",
   "nbconvert_exporter": "python",
   "pygments_lexer": "ipython2",
   "version": "2.7.10"
  }
 },
 "nbformat": 4,
 "nbformat_minor": 0
}
