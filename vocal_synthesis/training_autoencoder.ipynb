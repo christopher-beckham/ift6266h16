{
 "cells": [
  {
   "cell_type": "code",
   "execution_count": 1,
   "metadata": {
    "collapsed": false
   },
   "outputs": [
    {
     "name": "stderr",
     "output_type": "stream",
     "text": [
      "//anaconda/lib/python2.7/site-packages/Theano-0.8.0.dev0-py2.7.egg/theano/tensor/signal/downsample.py:5: UserWarning: downsample module has been moved to the pool module.\n",
      "  warnings.warn(\"downsample module has been moved to the pool module.\")\n"
     ]
    }
   ],
   "source": [
    "import sys\n",
    "import os\n",
    "from scipy.io import wavfile\n",
    "import numpy as np\n",
    "data_folder = \"/Volumes/CB_RESEARCH/vocal_synthesis/\"\n",
    "import theano\n",
    "from theano import tensor as T\n",
    "import lasagne\n",
    "from lasagne.layers import *\n",
    "from lasagne.init import *\n",
    "from lasagne.nonlinearities import *"
   ]
  },
  {
   "cell_type": "code",
   "execution_count": 2,
   "metadata": {
    "collapsed": true
   },
   "outputs": [],
   "source": [
    "fs, data = wavfile.read(data_folder + os.path.sep + \"data.wav\")"
   ]
  },
  {
   "cell_type": "code",
   "execution_count": 11,
   "metadata": {
    "collapsed": false
   },
   "outputs": [
    {
     "name": "stdout",
     "output_type": "stream",
     "text": [
      "Length of wav file: 3.024818 hrs\n"
     ]
    }
   ],
   "source": [
    "length_in_sec = float(len(data)) / fs\n",
    "print \"Length of wav file: %f hrs\" % ((length_in_sec / 60) / 60)"
   ]
  },
  {
   "cell_type": "code",
   "execution_count": 5,
   "metadata": {
    "collapsed": true
   },
   "outputs": [],
   "source": [
    "?wavfile.read"
   ]
  },
  {
   "cell_type": "markdown",
   "metadata": {},
   "source": [
    "Do ZMUV normalisation on the data. We will need to keep the mean and standard deviation to backtransform the \"predictions\" later on."
   ]
  },
  {
   "cell_type": "code",
   "execution_count": 3,
   "metadata": {
    "collapsed": true
   },
   "outputs": [],
   "source": [
    "data = np.asarray(data, dtype=\"float32\")\n",
    "mean = np.mean(data)\n",
    "std = np.std(data)\n",
    "data = (data - mean) / std"
   ]
  },
  {
   "cell_type": "code",
   "execution_count": 4,
   "metadata": {
    "collapsed": false
   },
   "outputs": [],
   "source": [
    "def generate_non_contig(chunk_size):\n",
    "    X_train = []\n",
    "    y_train = []\n",
    "    b = 0\n",
    "    while True:\n",
    "        X_train.append( data[b*chunk_size : (b+1)*chunk_size] )\n",
    "        y_train.append( data[(b+1)*chunk_size : (b+2)*chunk_size] )\n",
    "        b += 1\n",
    "        if (b+2)*chunk_size >= len(data):\n",
    "            break\n",
    "    return X_train, y_train"
   ]
  },
  {
   "cell_type": "code",
   "execution_count": 26,
   "metadata": {
    "collapsed": true
   },
   "outputs": [],
   "source": [
    "def generate_default(chunk_size):\n",
    "    X_train = []\n",
    "    y_train = []\n",
    "    b = 0\n",
    "    while True:\n",
    "        this_chunk = data[b*chunk_size : (b+1)*chunk_size]\n",
    "        if len(this_chunk) != chunk_size:\n",
    "            break\n",
    "        X_train.append( this_chunk[0 : len(this_chunk)-1] )\n",
    "        y_train.append( [ this_chunk[len(this_chunk)-1] ] )\n",
    "        b += 1\n",
    "        if (b)*chunk_size >= len(data):\n",
    "            break\n",
    "    return np.asarray(X_train, dtype=\"float32\"), np.asarray(y_train, dtype=\"float32\")"
   ]
  },
  {
   "cell_type": "code",
   "execution_count": 27,
   "metadata": {
    "collapsed": false
   },
   "outputs": [],
   "source": [
    "X_train, y_train = generate_default(100 + 1)"
   ]
  },
  {
   "cell_type": "code",
   "execution_count": 28,
   "metadata": {
    "collapsed": false
   },
   "outputs": [
    {
     "data": {
      "text/plain": [
       "((1725044, 100), (1725044, 1))"
      ]
     },
     "execution_count": 28,
     "metadata": {},
     "output_type": "execute_result"
    }
   ],
   "source": [
    "X_train.shape, y_train.shape"
   ]
  },
  {
   "cell_type": "code",
   "execution_count": 29,
   "metadata": {
    "collapsed": false
   },
   "outputs": [
    {
     "data": {
      "text/plain": [
       "array([[ -2.21997925e-05],\n",
       "       [ -2.21997925e-05],\n",
       "       [ -2.21997925e-05],\n",
       "       ..., \n",
       "       [ -2.21997925e-05],\n",
       "       [ -2.21997925e-05],\n",
       "       [ -2.21997925e-05]], dtype=float32)"
      ]
     },
     "execution_count": 29,
     "metadata": {},
     "output_type": "execute_result"
    }
   ],
   "source": [
    "y_train"
   ]
  },
  {
   "cell_type": "code",
   "execution_count": 30,
   "metadata": {
    "collapsed": false
   },
   "outputs": [],
   "source": [
    "chunk_size = 100\n",
    "l_in = InputLayer( (None, chunk_size) )\n",
    "l_hidden = DenseLayer(l_in, num_units=chunk_size*0.75, nonlinearity=leaky_rectify)\n",
    "l_hidden2 = DenseLayer(l_hidden, num_units=chunk_size*0.5, nonlinearity=leaky_rectify)\n",
    "l_hidden3 = DenseLayer(l_hidden2, num_units=chunk_size*0.75, nonlinearity=leaky_rectify)\n",
    "l_out = DenseLayer(l_hidden3, num_units=1, nonlinearity=linear)"
   ]
  },
  {
   "cell_type": "code",
   "execution_count": 31,
   "metadata": {
    "collapsed": true
   },
   "outputs": [],
   "source": [
    "X = T.fmatrix('X')\n",
    "y = T.fmatrix('y')\n",
    "pred = lasagne.layers.get_output(l_out, X)\n",
    "get_out = theano.function([X], pred)"
   ]
  },
  {
   "cell_type": "code",
   "execution_count": 32,
   "metadata": {
    "collapsed": true
   },
   "outputs": [],
   "source": [
    "params = lasagne.layers.get_all_params(l_out)"
   ]
  },
  {
   "cell_type": "code",
   "execution_count": 33,
   "metadata": {
    "collapsed": false
   },
   "outputs": [],
   "source": [
    "loss = lasagne.objectives.squared_error(pred, y)\n",
    "loss = loss.mean()"
   ]
  },
  {
   "cell_type": "code",
   "execution_count": 34,
   "metadata": {
    "collapsed": true
   },
   "outputs": [],
   "source": [
    "learning_rate = 0.01\n",
    "momentum = 0.9\n",
    "updates = lasagne.updates.nesterov_momentum(\n",
    "    loss, params, learning_rate=learning_rate, momentum=momentum)"
   ]
  },
  {
   "cell_type": "code",
   "execution_count": 35,
   "metadata": {
    "collapsed": false
   },
   "outputs": [],
   "source": [
    "train_fn = theano.function([X, y], loss, updates=updates)"
   ]
  },
  {
   "cell_type": "code",
   "execution_count": null,
   "metadata": {
    "collapsed": false
   },
   "outputs": [
    {
     "name": "stdout",
     "output_type": "stream",
     "text": [
      "train loss for epoch 0 = 0.009281\n",
      "train loss for epoch 1 = 0.003250\n",
      "train loss for epoch 2 = 0.002584\n",
      "train loss for epoch 3 = 0.002304"
     ]
    }
   ],
   "source": [
    "num_epochs = 100\n",
    "for epoch in range(0, num_epochs):\n",
    "    b = 0\n",
    "    batch_size = 128\n",
    "    train_losses = []\n",
    "    while True:\n",
    "        X_train_batch = X_train[b*batch_size : (b+1)*batch_size]\n",
    "        y_train_batch = y_train[b*batch_size : (b+1)*batch_size]\n",
    "        train_losses.append( train_fn(X_train_batch, y_train_batch) )\n",
    "        b += 1\n",
    "        if b*batch_size >= len(X_train):\n",
    "            break\n",
    "    print \"train loss for epoch %i = %f\" % (epoch, np.mean(train_losses))"
   ]
  },
  {
   "cell_type": "code",
   "execution_count": 42,
   "metadata": {
    "collapsed": false
   },
   "outputs": [
    {
     "data": {
      "text/plain": [
       "0.47639080989505334"
      ]
     },
     "execution_count": 42,
     "metadata": {},
     "output_type": "execute_result"
    }
   ],
   "source": [
    "np.mean(train_losses)"
   ]
  },
  {
   "cell_type": "code",
   "execution_count": 22,
   "metadata": {
    "collapsed": false
   },
   "outputs": [],
   "source": [
    "wavfile.write(data=data[0:500000],rate=fs,filename=\"/tmp/file.wav\")"
   ]
  },
  {
   "cell_type": "code",
   "execution_count": null,
   "metadata": {
    "collapsed": true
   },
   "outputs": [],
   "source": [
    "wavfile."
   ]
  }
 ],
 "metadata": {
  "kernelspec": {
   "display_name": "Python 2",
   "language": "python",
   "name": "python2"
  },
  "language_info": {
   "codemirror_mode": {
    "name": "ipython",
    "version": 2
   },
   "file_extension": ".py",
   "mimetype": "text/x-python",
   "name": "python",
   "nbconvert_exporter": "python",
   "pygments_lexer": "ipython2",
   "version": "2.7.10"
  }
 },
 "nbformat": 4,
 "nbformat_minor": 0
}
